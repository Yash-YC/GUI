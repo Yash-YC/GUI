{
 "cells": [
  {
   "cell_type": "code",
   "execution_count": 8,
   "metadata": {},
   "outputs": [
    {
     "data": {
      "text/plain": [
       "'http://192.168.0.101:8880'"
      ]
     },
     "execution_count": 8,
     "metadata": {},
     "output_type": "execute_result"
    }
   ],
   "source": [
    "import socket\n",
    "hostname = \"\".join((\"//\", socket.gethostbyname(socket.gethostname())))\n",
    "\n",
    "\":\".join((\"http\",hostname,\"8880\"))\n"
   ]
  },
  {
   "cell_type": "code",
   "execution_count": null,
   "metadata": {},
   "outputs": [],
   "source": [
    "\":\".join()\n",
    "http://192.168.1.7:8880/"
   ]
  },
  {
   "cell_type": "code",
   "execution_count": 1,
   "metadata": {},
   "outputs": [],
   "source": [
    "import mysql.connector"
   ]
  },
  {
   "cell_type": "code",
   "execution_count": 21,
   "metadata": {},
   "outputs": [],
   "source": [
    "name = 'yyasshhs'\n",
    "path = 'yysdafafaafafaf'"
   ]
  },
  {
   "cell_type": "code",
   "execution_count": 25,
   "metadata": {},
   "outputs": [],
   "source": [
    "from Database.utils import mydb\n",
    "yasdb = mydb\n",
    "mycursor = yasdb.cursor()\n",
    "query = f\"INSERT INTO gias.tb_user(name, image_path) values('{name}','{path}')\"\n",
    "mycursor.execute(query)\n",
    "# ans = mycursor.fetchall()\n",
    "# for i in ans:\n",
    "#     print(i)\n",
    "# mycursor.close()\n",
    "mydb.commit()"
   ]
  },
  {
   "cell_type": "code",
   "execution_count": 16,
   "metadata": {},
   "outputs": [
    {
     "name": "stdout",
     "output_type": "stream",
     "text": [
      "Successful run\n"
     ]
    }
   ],
   "source": [
    "from Database.utils import *\n",
    "import os\n",
    "mydb = mydb\n",
    "name = \"yash\"\n",
    "path = os.path.join(os.getcwd(),'ccc')\n",
    "q = f\"INSERT INTO gias.db_user values('{name}','{path}','cc.jpg')\"\n",
    "executor(mydb,q)"
   ]
  },
  {
   "cell_type": "code",
   "execution_count": 8,
   "metadata": {},
   "outputs": [
    {
     "ename": "NameError",
     "evalue": "name '__file__' is not defined",
     "output_type": "error",
     "traceback": [
      "\u001b[1;31m---------------------------------------------------------------------------\u001b[0m",
      "\u001b[1;31mNameError\u001b[0m                                 Traceback (most recent call last)",
      "\u001b[1;32m~\\AppData\\Local\\Temp\\ipykernel_4148\\2175651757.py\u001b[0m in \u001b[0;36m<module>\u001b[1;34m\u001b[0m\n\u001b[1;32m----> 1\u001b[1;33m \u001b[0mos\u001b[0m\u001b[1;33m.\u001b[0m\u001b[0mpath\u001b[0m\u001b[1;33m.\u001b[0m\u001b[0mdirname\u001b[0m\u001b[1;33m(\u001b[0m\u001b[0m__file__\u001b[0m\u001b[1;33m)\u001b[0m\u001b[1;33m\u001b[0m\u001b[1;33m\u001b[0m\u001b[0m\n\u001b[0m",
      "\u001b[1;31mNameError\u001b[0m: name '__file__' is not defined"
     ]
    }
   ],
   "source": [
    "os.path.dirname(__file__)"
   ]
  },
  {
   "cell_type": "code",
   "execution_count": 1,
   "metadata": {},
   "outputs": [
    {
     "data": {
      "text/plain": [
       "'e:\\\\FaceRec\\\\GUI\\\\FaceRecog\\\\images\\\\yash\\\\Yash.jpg'"
      ]
     },
     "execution_count": 1,
     "metadata": {},
     "output_type": "execute_result"
    }
   ],
   "source": [
    "selected_item = 'Yash.jpg'\n",
    "selected_item.split('.')[0].lower()\n",
    "\n",
    "from PIL import Image\n",
    "os.path.join(os.getcwd(),'FaceRecog','images',selected_item.split('.')[0].lower(), str(selected_item))"
   ]
  },
  {
   "cell_type": "code",
   "execution_count": null,
   "metadata": {},
   "outputs": [],
   "source": []
  }
 ],
 "metadata": {
  "kernelspec": {
   "display_name": "Python 3.7.12 ('basic')",
   "language": "python",
   "name": "python3"
  },
  "language_info": {
   "codemirror_mode": {
    "name": "ipython",
    "version": 3
   },
   "file_extension": ".py",
   "mimetype": "text/x-python",
   "name": "python",
   "nbconvert_exporter": "python",
   "pygments_lexer": "ipython3",
   "version": "3.7.12"
  },
  "orig_nbformat": 4,
  "vscode": {
   "interpreter": {
    "hash": "91546a33a0aad877077bad2e92cb4aa0b414dd84dd1149235922129c9a284967"
   }
  }
 },
 "nbformat": 4,
 "nbformat_minor": 2
}
